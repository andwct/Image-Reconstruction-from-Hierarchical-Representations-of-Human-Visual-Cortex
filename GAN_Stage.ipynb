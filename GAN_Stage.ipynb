{
 "cells": [
  {
   "cell_type": "code",
   "execution_count": 1,
   "metadata": {},
   "outputs": [],
   "source": [
    "import torch.nn as nn\n",
    "from model import shape_decoding_digits\n",
    "import matplotlib.pyplot as plt\n",
    "import time\n",
    "import datetime\n",
    "from torch.utils.data import DataLoader\n",
    "from model.models import *\n",
    "from data.datasets import *\n",
    "import torch\n",
    "import PIL\n",
    "from matplotlib.pyplot import imshow\n",
    "%matplotlib inline\n",
    "import kornia"
   ]
  },
  {
   "cell_type": "code",
   "execution_count": 2,
   "metadata": {},
   "outputs": [],
   "source": [
    "# Loss functions\n",
    "n_epochs = 200\n",
    "batch_size = 30\n",
    "lr = 0.0002\n",
    "b1 = 0.5\n",
    "b2 = 0.999\n",
    "img_height = 256\n",
    "img_width = 256\n",
    "criterion_GAN = torch.nn.MSELoss()\n",
    "criterion_pixelwise = torch.nn.MSELoss()\n",
    "criteirion_contour = torch.nn.MSELoss()\n",
    "# Loss weight of L1 pixel-wise loss between translated image and real image\n",
    "lambda_pixel = 130\n",
    "\n",
    "# Calculate output of image discriminator (PatchGAN)\n",
    "patch = (1, img_height // 2 ** 4, img_width // 2 ** 4)"
   ]
  },
  {
   "cell_type": "code",
   "execution_count": 3,
   "metadata": {},
   "outputs": [],
   "source": [
    "# Initialize generator and discriminator\n",
    "generator = GeneratorUNet()\n",
    "discriminator = Discriminator()"
   ]
  },
  {
   "cell_type": "code",
   "execution_count": 4,
   "metadata": {},
   "outputs": [],
   "source": [
    "# Tensor type\n",
    "cuda = True if torch.cuda.is_available() else False\n",
    "Tensor = torch.cuda.FloatTensor if cuda else torch.FloatTensor\n",
    "if cuda:\n",
    "    generator = generator.cuda()\n",
    "    discriminator = discriminator.cuda()\n",
    "    criterion_GAN.cuda()\n",
    "    criterion_pixelwise.cuda()\n",
    "    criteirion_contour.cuda()"
   ]
  },
  {
   "cell_type": "code",
   "execution_count": 5,
   "metadata": {},
   "outputs": [
    {
     "data": {
      "text/plain": [
       "Discriminator(\n",
       "  (model): Sequential(\n",
       "    (0): Conv2d(6, 64, kernel_size=(4, 4), stride=(2, 2), padding=(1, 1))\n",
       "    (1): LeakyReLU(negative_slope=0.2, inplace=True)\n",
       "    (2): Conv2d(64, 128, kernel_size=(4, 4), stride=(2, 2), padding=(1, 1))\n",
       "    (3): InstanceNorm2d(128, eps=1e-05, momentum=0.1, affine=False, track_running_stats=False)\n",
       "    (4): LeakyReLU(negative_slope=0.2, inplace=True)\n",
       "    (5): Conv2d(128, 256, kernel_size=(4, 4), stride=(2, 2), padding=(1, 1))\n",
       "    (6): InstanceNorm2d(256, eps=1e-05, momentum=0.1, affine=False, track_running_stats=False)\n",
       "    (7): LeakyReLU(negative_slope=0.2, inplace=True)\n",
       "    (8): Conv2d(256, 512, kernel_size=(4, 4), stride=(2, 2), padding=(1, 1))\n",
       "    (9): InstanceNorm2d(512, eps=1e-05, momentum=0.1, affine=False, track_running_stats=False)\n",
       "    (10): LeakyReLU(negative_slope=0.2, inplace=True)\n",
       "    (11): ZeroPad2d(padding=(1, 0, 1, 0), value=0.0)\n",
       "    (12): Conv2d(512, 1, kernel_size=(4, 4), stride=(1, 1), padding=(1, 1), bias=False)\n",
       "  )\n",
       ")"
      ]
     },
     "execution_count": 5,
     "metadata": {},
     "output_type": "execute_result"
    }
   ],
   "source": [
    "# Initialize weights\n",
    "generator.apply(weights_init_normal)\n",
    "discriminator.apply(weights_init_normal)"
   ]
  },
  {
   "cell_type": "code",
   "execution_count": 6,
   "metadata": {},
   "outputs": [],
   "source": [
    "# Optimizers\n",
    "optimizer_G = torch.optim.Adam(generator.parameters(), lr=lr, betas=(b1, b2))\n",
    "optimizer_D = torch.optim.Adam(discriminator.parameters(), lr=lr, betas=(b1, b2))\n",
    "scheduler_G = torch.optim.lr_scheduler.StepLR(optimizer_G, step_size=3, gamma=0.9)\n",
    "scheduler_D = torch.optim.lr_scheduler.StepLR(optimizer_D, step_size=3, gamma=0.9)"
   ]
  },
  {
   "cell_type": "code",
   "execution_count": 8,
   "metadata": {},
   "outputs": [
    {
     "name": "stdout",
     "output_type": "stream",
     "text": [
      "Load train semantic features:\n",
      "torch.Size([6000, 1024])\n"
     ]
    },
    {
     "data": {
      "text/plain": [
       "tensor([[-0.4863,  0.3692,  0.1722,  ...,  0.4117,  0.7808, -0.3116],\n",
       "        [ 0.4454,  0.0824, -0.4267,  ..., -0.5439, -0.4946,  0.3352],\n",
       "        [ 0.5285,  0.3229, -0.4287,  ...,  0.5722, -0.1412, -0.0980],\n",
       "        ...,\n",
       "        [ 0.8580,  0.2367,  0.0675,  ...,  0.0557, -0.2398,  0.2934],\n",
       "        [ 0.5958,  0.3708, -0.7983,  ...,  0.6728,  0.4681,  0.6259],\n",
       "        [ 0.2518,  0.7334, -0.6548,  ...,  0.7596,  0.6879,  0.5078]],\n",
       "       requires_grad=True)"
      ]
     },
     "execution_count": 8,
     "metadata": {},
     "output_type": "execute_result"
    }
   ],
   "source": [
    "print('Load train semantic features:')\n",
    "train_semantic_vec = torch.load('./data/images/images/semantic_features/train_sm_0726_cluster_20.pt')\n",
    "print(train_semantic_vec.shape)\n",
    "train_semantic_vec"
   ]
  },
  {
   "cell_type": "code",
   "execution_count": 9,
   "metadata": {},
   "outputs": [
    {
     "name": "stdout",
     "output_type": "stream",
     "text": [
      "load test semantic features:\n",
      "torch.Size([1200, 1024])\n"
     ]
    },
    {
     "data": {
      "text/plain": [
       "tensor([[-0.0749,  0.5169, -0.4813,  ...,  0.6790,  0.4429,  0.2776],\n",
       "        [ 0.1711,  0.6264, -0.7709,  ...,  0.6824, -0.1504,  0.2731],\n",
       "        [ 0.5564,  0.2277, -0.6691,  ...,  0.0603,  0.4212,  0.1593],\n",
       "        ...,\n",
       "        [ 0.6524, -0.3393, -0.1207,  ...,  0.6354,  0.4155, -0.1743],\n",
       "        [-0.1301, -0.3213, -0.3402,  ...,  0.3772, -0.2399, -0.5038],\n",
       "        [ 0.4575,  0.1244, -0.4902,  ...,  0.5225, -0.6285, -0.2949]],\n",
       "       requires_grad=True)"
      ]
     },
     "execution_count": 9,
     "metadata": {},
     "output_type": "execute_result"
    }
   ],
   "source": [
    "print(\"load test semantic features:\")\n",
    "# test_semantic_vec = torch.load(\"./data/images/images/semantic_features/test_sm_0724_cluster_10.pt\")\n",
    "test_semantic_vec = torch.load(\"./data/images/images/semantic_features/sm_test_0703_1024.pt\")\n",
    "\n",
    "print(test_semantic_vec.shape)\n",
    "test_semantic_vec"
   ]
  },
  {
   "cell_type": "code",
   "execution_count": 10,
   "metadata": {},
   "outputs": [
    {
     "name": "stdout",
     "output_type": "stream",
     "text": [
      "torch.Size([6000, 1024])\n",
      "torch.Size([1200, 1024])\n"
     ]
    }
   ],
   "source": [
    "train_semantic_vec = train_semantic_vec.type(Tensor)\n",
    "print(train_semantic_vec.shape)\n",
    "test_semantic_vec = test_semantic_vec.type(Tensor)\n",
    "print(test_semantic_vec.shape)\n",
    "prev_time = time.time()"
   ]
  },
  {
   "cell_type": "markdown",
   "metadata": {},
   "source": [
    "## GAN Training"
   ]
  },
  {
   "cell_type": "code",
   "execution_count": 17,
   "metadata": {},
   "outputs": [],
   "source": [
    "transforms_ = [\n",
    "    transforms.Resize((img_height, img_width), Image.BICUBIC),\n",
    "    transforms.ToTensor(),\n",
    "    transforms.Normalize((0.5, 0.5, 0.5), (0.5, 0.5, 0.5))\n",
    "]\n",
    "\n",
    "dataloader = DataLoader(\n",
    "    ImageDataset(\"/home/anderson/Reconstructing-Perceptive-Images-from-Brain-Activity-by-Shape-Semantic-GAN/data/images/images/shape_features_groundtruth2\", transforms_= transforms_, mode = \"train_6000_ordered_grayscale_blurred_invert\"),\n",
    "    batch_size=batch_size,\n",
    "    shuffle=False,\n",
    "    num_workers=0,\n",
    ")\n",
    "\n",
    "\n"
   ]
  },
  {
   "cell_type": "code",
   "execution_count": null,
   "metadata": {},
   "outputs": [],
   "source": []
  },
  {
   "cell_type": "code",
   "execution_count": 18,
   "metadata": {
    "scrolled": true
   },
   "outputs": [],
   "source": [
    "timestr = time.strftime(\"%Y%m%d-%H%M%S\")\n",
    "print(timestr)\n",
    "for epoch in range(0, n_epochs):\n",
    "    scheduler_D.step()\n",
    "    scheduler_G.step()\n",
    "    for i, batch in enumerate(dataloader):\n",
    "        # Model inputs\n",
    "        real_A = batch[\"B\"].type(Tensor)   # 轮廓\n",
    "        real_B = batch[\"A\"].type(Tensor)   # 真图\n",
    "        # Adversarial ground truths\n",
    "        valid = Tensor(np.ones((real_A.size(0), *patch)))\n",
    "        fake = Tensor(np.zeros((real_A.size(0), *patch)))\n",
    "\n",
    "        #  Train Generator\n",
    "\n",
    "        optimizer_G.zero_grad()\n",
    "\n",
    "        # GAN loss\n",
    "#         fake_B = generator(real_A, train_semantic_vec[i*batch_size:(i+1)*batch_size])\n",
    "        \n",
    "        fake_B = generator(real_A, train_semantic_vec[0:0])\n",
    "        \n",
    "        pred_fake = discriminator(fake_B, real_A)\n",
    "\n",
    "        loss_GAN = criterion_GAN(pred_fake, valid)\n",
    "        # Pixel-wise loss\n",
    "        loss_pixel = criterion_pixelwise(fake_B, real_B)\n",
    "        # Total loss\n",
    "        loss_G = loss_GAN + lambda_pixel * loss_pixel\n",
    "\n",
    "        loss_G.backward()\n",
    "\n",
    "        optimizer_G.step()\n",
    "\n",
    "        #  Train Discriminator\n",
    "\n",
    "        optimizer_D.zero_grad()\n",
    "\n",
    "        # Real loss\n",
    "        pred_real = discriminator(real_B, real_A)\n",
    "        loss_real = criterion_GAN(pred_real, valid)\n",
    "\n",
    "        # Fake loss\n",
    "        pred_fake = discriminator(fake_B.detach(), real_A)\n",
    "        loss_fake = criterion_GAN(pred_fake, fake)\n",
    "\n",
    "        # Total loss\n",
    "        loss_D = 0.5 * (loss_real + loss_fake)\n",
    "\n",
    "        loss_D.backward()\n",
    "        optimizer_D.step()\n",
    "\n",
    "        #  Log Progress\n",
    "        batches_done = epoch * len(dataloader) + i\n",
    "        batches_left = n_epochs * len(dataloader) - batches_done\n",
    "        time_left = datetime.timedelta(seconds = batches_left * (time.time() - prev_time))\n",
    "        prev_time = time.time()\n",
    "\n",
    "        print(\n",
    "            \"\\r[Epoch %d/%d] [Batch %d/%d] [D loss: %f] [G loss: %f, pixel: %f, adv: %f] ETA: %s\"\n",
    "            % (\n",
    "                epoch,\n",
    "                n_epochs,\n",
    "                i,\n",
    "                len(dataloader),\n",
    "                loss_D.item(),\n",
    "                loss_G.item(),\n",
    "                loss_pixel.item(),\n",
    "                loss_GAN.item(),\n",
    "                time_left,\n",
    "            )\n",
    "        )\n",
    "    if epoch % 10 == 0:\n",
    "        torch.save(generator.state_dict(),\"./generator/\"+ timestr+\"_\"+str(epoch)+\"_\"+str(loss_D.item())+\"_invert_no_semantics.pt\")\n",
    "torch.save(generator.state_dict(),\"./generator/\"+ timestr+\"_\"+str(epoch)+\"_\"+str(loss_D.item())+\"_invert_no_semantics_final.pt\")\n"
   ]
  },
  {
   "cell_type": "code",
   "execution_count": 11,
   "metadata": {},
   "outputs": [
    {
     "name": "stderr",
     "output_type": "stream",
     "text": [
      "/home/anderson/.local/lib/python3.6/site-packages/torchvision/transforms/transforms.py:258: UserWarning: Argument interpolation should be of type InterpolationMode instead of int. Please, use InterpolationMode enum.\n",
      "  \"Argument interpolation should be of type InterpolationMode instead of int. \"\n"
     ]
    }
   ],
   "source": [
    "transforms_ = [\n",
    "    transforms.Resize((img_height, img_width), Image.BICUBIC),\n",
    "    transforms.ToTensor(),\n",
    "    transforms.Normalize((0.5, 0.5, 0.5), (0.5, 0.5, 0.5)),\n",
    "]\n",
    "test_dataloader = DataLoader(\n",
    "    ImageDataset(\"/home/anderson/Reconstructing-Perceptive-Images-from-Brain-Activity-by-Shape-Semantic-GAN/data/images/images/GAN_prediction_20210717-055947_30_39.014461517333984.pt/\", transforms_= transforms_, mode = \"test_1200\"),\n",
    "    batch_size=30,\n",
    "    shuffle=False,\n",
    "    num_workers=0,\n",
    ")"
   ]
  },
  {
   "cell_type": "code",
   "execution_count": 12,
   "metadata": {},
   "outputs": [],
   "source": [
    "generator = GeneratorUNet()\n",
    "generator.load_state_dict(torch.load(\"./generator/20210728-112828_199_0.00033030787017196417_invert_no_semantics_final.pt\"))\n",
    "cuda = True if torch.cuda.is_available() else False\n",
    "Tensor = torch.cuda.FloatTensor if cuda else torch.FloatTensor\n",
    "if cuda:\n",
    "    generator = generator.cuda()\n",
    "    discriminator = discriminator.cuda()\n",
    "    criterion_GAN.cuda()\n",
    "    criterion_pixelwise.cuda()\n",
    "    criteirion_contour.cuda()"
   ]
  },
  {
   "cell_type": "markdown",
   "metadata": {},
   "source": [
    "## Inference trained generator "
   ]
  },
  {
   "cell_type": "code",
   "execution_count": null,
   "metadata": {},
   "outputs": [],
   "source": [
    "test_semantic_vec = torch.load(\"./data/sm_features/test_1200_sm_features.pt\")\n",
    "test_semantic_vec = test_semantic_vec.type(Tensor)\n",
    "print(test_semantic_vec.shape)"
   ]
  },
  {
   "cell_type": "code",
   "execution_count": null,
   "metadata": {},
   "outputs": [],
   "source": [
    "transforms_ = [\n",
    "    transforms.Resize((img_height, img_width), Image.BICUBIC),\n",
    "    transforms.ToTensor(),\n",
    "    transforms.Normalize((0.5, 0.5, 0.5), (0.5, 0.5, 0.5)),\n",
    "]\n",
    "test_dataloader = DataLoader(\n",
    "    ImageDataset(\"/home/anderson/Reconstructing-Perceptive-Images-from-Brain-Activity-by-Shape-Semantic-GAN/data/images/images/GAN_prediction_20210717-055947_30_39.014461517333984.pt/\", transforms_= transforms_, mode = \"test_1200\"),\n",
    "    batch_size=30,\n",
    "    shuffle=False,\n",
    "    num_workers=0,\n",
    ")"
   ]
  },
  {
   "cell_type": "code",
   "execution_count": null,
   "metadata": {},
   "outputs": [],
   "source": [
    "denorm = kornia.augmentation.Denormalize(torch.tensor((0.5, 0.5, 0.5)), torch.tensor((0.5, 0.5, 0.5)))\n",
    "count = 0\n",
    "for j, batch in enumerate(test_dataloader):\n",
    "    plt.figure()\n",
    "    real_A = batch[\"B\"].type(Tensor)\n",
    "    real_B = batch[\"A\"].type(Tensor)\n",
    "    fake_B = generator(real_A, test_semantic_vec[j*batch_size:(j+1)*batch_size])\n",
    "    fake_B = fake_B.cpu().data\n",
    "    real_B = real_B.cpu().data\n",
    "\n",
    "    for i in range(batch_size):\n",
    "        count +=1\n",
    "        fimg = fake_B[i]\n",
    "        fimg = denorm(fimg)\n",
    "        fimg = fimg.squeeze(0)\n",
    "        fimg = transforms.ToPILImage()(fimg)\n",
    "        \n",
    "        raw_img = real_B[i]\n",
    "        raw_img = denorm(raw_img)\n",
    "        raw_img = raw_img.squeeze(0)\n",
    "        raw_img = transforms.ToPILImage()(raw_img)\n",
    "\n",
    "        target = Image.new('RGB', (256 * 2, 256))\n",
    "        target.paste(raw_img, (0, 0, 256, 256))\n",
    "        target.paste(fimg, (256, 0, 512, 256))\n",
    "        target = target.resize((512, 256), Image.ANTIALIAS)\n",
    "#         target = target.convert('L')\n",
    "        target = np.asarray(target)\n",
    "\n",
    "#         plt.imshow((target))\n",
    "#         plt.show()\n",
    "        pic = Image.fromarray(target)\n",
    "        pic.save(\"results/ImageNet/GAN_0725_prediction_image_cluster20/test_1200_original_vec/reconstructed_img_\"+str(j)+\"_\"+str(i)+\".jpg\")\n",
    "#         ax.get_xaxis().set_visible(False)\n",
    "#         ax.get_yaxis().set_visible(False)\n",
    "#     plt.tight_layout()\n",
    "#     plt.savefig(\"results/ImageNet/reconstructed_img.png\")\n",
    "print(\"done\")"
   ]
  }
 ],
 "metadata": {
  "kernelspec": {
   "display_name": "Python 3",
   "language": "python",
   "name": "python3"
  },
  "language_info": {
   "codemirror_mode": {
    "name": "ipython",
    "version": 3
   },
   "file_extension": ".py",
   "mimetype": "text/x-python",
   "name": "python",
   "nbconvert_exporter": "python",
   "pygments_lexer": "ipython3",
   "version": "3.6.9"
  }
 },
 "nbformat": 4,
 "nbformat_minor": 4
}
